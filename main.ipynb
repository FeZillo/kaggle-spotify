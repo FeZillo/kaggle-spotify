{
 "cells": [
  {
   "cell_type": "code",
   "execution_count": null,
   "metadata": {},
   "outputs": [],
   "source": [
    "import pandas as pd\n",
    "import seaborn as sns\n",
    "import matplotlib.pyplot as plt\n",
    "from sklearn.model_selection import GridSearchCV\n",
    "from sklearn.preprocessing import StandardScaler, OneHotEncoder\n",
    "from sklearn.compose import ColumnTransformer\n",
    "from sklearn.pipeline import Pipeline\n",
    "from sklearn.linear_model import LogisticRegression\n",
    "from sklearn.ensemble import RandomForestClassifier\n",
    "from sklearn.metrics import accuracy_score, classification_report\n",
    "from sklearn.model_selection import train_test_split\n",
    "from sklearn.metrics import accuracy_score, classification_report, confusion_matrix"
   ]
  },
  {
   "cell_type": "code",
   "execution_count": null,
   "metadata": {},
   "outputs": [],
   "source": [
    "train_data = pd.read_csv('./data/train.csv')\n",
    "test_data= pd.read_csv('./data/test.csv')"
   ]
  },
  {
   "cell_type": "code",
   "execution_count": null,
   "metadata": {},
   "outputs": [],
   "source": [
    "numeric_features_train = train_data.select_dtypes(include=['float64', 'int64']).columns.tolist()"
   ]
  },
  {
   "cell_type": "markdown",
   "metadata": {},
   "source": [
    "Como os valores ausentes são puramente categóricos, não a necessidade explícita de tratá-los (os nomes do artista, album e música não importam) para o modelo preditivo. Então segue com a remoção dos outliers."
   ]
  },
  {
   "cell_type": "code",
   "execution_count": null,
   "metadata": {},
   "outputs": [],
   "source": [
    "# Função para remover outliers utilizando o método IQR\n",
    "def remove_outliers_iqr(df, numeric_features):\n",
    "    for col in numeric_features:\n",
    "        Q1 = df[col].quantile(0.25)\n",
    "        Q3 = df[col].quantile(0.75)\n",
    "        IQR = Q3 - Q1\n",
    "        \n",
    "        # Definindo limites inferior e superior\n",
    "        lower_bound = Q1 - 1.5 * IQR\n",
    "        upper_bound = Q3 + 1.5 * IQR\n",
    "        \n",
    "        # Remover outliers\n",
    "        df = df[(df[col] >= lower_bound) & (df[col] <= upper_bound)]\n",
    "    \n",
    "    return df"
   ]
  },
  {
   "cell_type": "code",
   "execution_count": null,
   "metadata": {},
   "outputs": [],
   "source": [
    "train_data_cleaned = remove_outliers_iqr(train_data, numeric_features_train)\n",
    "\n",
    "# Verificando o tamanho do novo DataFrame\n",
    "print(f\"Tamanho original do conjunto de teste: {train_data.shape[0]}\")\n",
    "print(f\"Tamanho após remoção de outliers: {train_data.shape[0]}\")"
   ]
  },
  {
   "cell_type": "markdown",
   "metadata": {},
   "source": [
    "Foi notado que não há outliers na tabela"
   ]
  },
  {
   "cell_type": "markdown",
   "metadata": {},
   "source": [
    "## Hipótese 1: \n",
    "Há alguns gêneros que possuem significativamente mais músicas populares do que outros, portanto há uma relação direta. Posso atribuir pesos aos gêneros e isso afetará positivamente o resultado da IA."
   ]
  },
  {
   "cell_type": "code",
   "execution_count": null,
   "metadata": {},
   "outputs": [],
   "source": [
    "import matplotlib.pyplot as plt\n",
    "import seaborn as sns\n",
    "\n",
    "# 1. Contar a frequência de músicas populares e não populares por gênero\n",
    "genre_popularity = train_data.groupby(['track_genre', 'popularity_target']).size().unstack()\n",
    "\n",
    "# 2. Aumentar o tamanho da figura para comportar mais gêneros\n",
    "plt.figure(figsize=(20, 8))  # Aumenta a largura da figura\n",
    "\n",
    "# 3. Plotar o gráfico de barras empilhadas com mais espaço\n",
    "genre_popularity.plot(kind='bar', stacked=True, color=['skyblue', 'orange'], figsize=(20, 8))\n",
    "\n",
    "# 4. Ajustes no gráfico\n",
    "plt.title('Distribuição de Popularidade por Gênero Musical', fontsize=16)\n",
    "plt.xlabel('Gênero Musical', fontsize=12)\n",
    "plt.ylabel('Número de Músicas', fontsize=12)\n",
    "\n",
    "# Rotaciona as labels do eixo X para evitar sobreposição\n",
    "plt.xticks(rotation=90, ha='center')  \n",
    "\n",
    "plt.legend(title='Popularidade', labels=['Não Popular', 'Popular'])\n",
    "plt.tight_layout()\n",
    "\n",
    "# 5. Mostrar o gráfico\n",
    "plt.show()\n"
   ]
  },
  {
   "cell_type": "markdown",
   "metadata": {},
   "source": [
    "## Hipótese 2:\n",
    "Há uma relação direta entre danceability e loudness (quanto mais 'dançável' a música, mais alta ela é), dado algumas exceções. Sabendo disso, posso utilizar PCA na tabela para melhorar os resultados no modelo."
   ]
  },
  {
   "cell_type": "code",
   "execution_count": null,
   "metadata": {},
   "outputs": [],
   "source": [
    "# Amostrar os dados para evitar poluição\n",
    "train_sample = train_data.sample(1000, random_state=42)  # Reduzir o número de pontos exibidos\n",
    "\n",
    "# Criar o gráfico de dispersão com transparência ajustada\n",
    "plt.figure(figsize=(8, 6))\n",
    "sns.set(style=\"whitegrid\")\n",
    "\n",
    "scatter = sns.scatterplot(data=train_sample, x='danceability', y='loudness', \n",
    "                          hue='popularity_target', palette='coolwarm', \n",
    "                          alpha=0.6, s=50, edgecolor=None)\n",
    "\n",
    "# Adicionar rótulos e título\n",
    "plt.title('Relação entre Danceability e Loudness', fontsize=16, pad=20)\n",
    "plt.xlabel('Danceability', fontsize=12, labelpad=10)\n",
    "plt.ylabel('Loudness', fontsize=12, labelpad=10)\n",
    "\n",
    "# Remover a legenda para simplicidade\n",
    "scatter.legend_.remove()\n",
    "\n",
    "# Exibir o gráfico\n",
    "plt.show()\n"
   ]
  },
  {
   "cell_type": "markdown",
   "metadata": {},
   "source": [
    "## Hipótese 3:\n",
    "Quanto mais energia a música tem, maior a sua dançabilidade no geral. Com isso, podemos ver uma relação direta entre essas features."
   ]
  },
  {
   "cell_type": "code",
   "execution_count": null,
   "metadata": {},
   "outputs": [],
   "source": [
    "# Ajustar a amostra de dados para evitar poluição (opcional)\n",
    "train_sample = train_data.sample(1000, random_state=42)  # Reduzir o número de pontos exibidos\n",
    "\n",
    "# Definir o tamanho do gráfico e estilo\n",
    "plt.figure(figsize=(10, 6))\n",
    "sns.set(style=\"whitegrid\")\n",
    "\n",
    "# Criar o gráfico de dispersão com transparência ajustada\n",
    "scatter = sns.scatterplot(x='energy', y='danceability', data=train_sample, hue='popularity_target', palette='coolwarm', alpha=0.5, s=70, edgecolor=None)\n",
    "\n",
    "# Adicionar rótulos e título\n",
    "plt.title('Relação entre Energy e Danceability (Amostra)', fontsize=16, pad=20)\n",
    "plt.xlabel('Energy', fontsize=12, labelpad=10)\n",
    "plt.ylabel('Danceability', fontsize=12, labelpad=10)\n",
    "\n",
    "# Remover a legenda para simplicidade\n",
    "scatter.legend_.remove()\n",
    "\n",
    "# Exibir o gráfico\n",
    "plt.show()\n"
   ]
  },
  {
   "cell_type": "code",
   "execution_count": null,
   "metadata": {},
   "outputs": [],
   "source": [
    "# 1. Calcular a proporção de músicas populares para cada gênero\n",
    "genre_popularity = train_data.groupby('track_genre')['popularity_target'].mean()\n",
    "\n",
    "# 2. Normalizar os pesos para que somem 1 (ou para que tenham uma escala comparável)\n",
    "weights = genre_popularity / genre_popularity.sum()"
   ]
  },
  {
   "cell_type": "code",
   "execution_count": null,
   "metadata": {},
   "outputs": [],
   "source": [
    "# 1. Adicionar os pesos calculados como uma nova coluna no conjunto de treino\n",
    "train_data['genre_weight'] = train_data['track_genre'].map(weights)"
   ]
  },
  {
   "cell_type": "code",
   "execution_count": null,
   "metadata": {},
   "outputs": [],
   "source": [
    "# 2. Separar as features e a target\n",
    "X_train = train_data.drop(columns=['popularity_target', 'genre_weight', 'track_id', 'track_unique_id', 'key', 'album_name', 'track_name', 'explicit', 'duration_ms', 'time_signature', 'mode'])\n",
    "y_train = train_data['popularity_target']\n",
    "\n",
    "X_test = test_data  "
   ]
  },
  {
   "cell_type": "code",
   "execution_count": null,
   "metadata": {},
   "outputs": [],
   "source": [
    "# 3. Definir colunas numéricas e categóricas\n",
    "numeric_features = ['danceability', 'energy', 'loudness', 'valence', 'tempo', 'speechiness', 'acousticness', 'instrumentalness', 'liveness']\n",
    "categorical_features = ['track_genre']"
   ]
  },
  {
   "cell_type": "code",
   "execution_count": null,
   "metadata": {},
   "outputs": [],
   "source": [
    "# 4. Criar o pré-processador para tratar as variáveis numéricas e categóricas\n",
    "preprocessor = ColumnTransformer(\n",
    "    transformers=[\n",
    "        ('num', StandardScaler(), numeric_features),\n",
    "        ('cat', OneHotEncoder(), categorical_features)\n",
    "    ])"
   ]
  },
  {
   "cell_type": "code",
   "execution_count": null,
   "metadata": {},
   "outputs": [],
   "source": [
    "# 5. Criar pipeline com pré-processamento e modelo de regressão logística\n",
    "logistic_model = Pipeline(steps=[\n",
    "    ('preprocessor', preprocessor),\n",
    "    ('classifier', LogisticRegression(random_state=42, max_iter=1000))\n",
    "])"
   ]
  },
  {
   "cell_type": "code",
   "execution_count": null,
   "metadata": {},
   "outputs": [],
   "source": [
    "# 6. Dividir o conjunto de treino em treino (80%) e validação (20%)\n",
    "X_train_split, X_val, y_train_split, y_val = train_test_split(X_train, y_train, test_size=0.2, random_state=42)"
   ]
  },
  {
   "cell_type": "code",
   "execution_count": null,
   "metadata": {},
   "outputs": [],
   "source": [
    "# 7. Treinar o modelo no conjunto de treino dividido\n",
    "logistic_model.fit(X_train_split, y_train_split)"
   ]
  },
  {
   "cell_type": "code",
   "execution_count": null,
   "metadata": {},
   "outputs": [],
   "source": [
    "# 8. Fazer previsões no conjunto de validação\n",
    "y_val_pred = logistic_model.predict(X_val)"
   ]
  },
  {
   "cell_type": "code",
   "execution_count": null,
   "metadata": {},
   "outputs": [],
   "source": [
    "# 9. Calcular e exibir as métricas de avaliação\n",
    "accuracy = accuracy_score(y_val, y_val_pred)\n",
    "print(f'Acurácia: {accuracy:.2f}')"
   ]
  },
  {
   "cell_type": "code",
   "execution_count": null,
   "metadata": {},
   "outputs": [],
   "source": [
    "# plot da matriz de confusão\n",
    "conf_matrix = confusion_matrix(y_val, y_val_pred)\n",
    "\n",
    "plt.figure(figsize=(8, 6))\n",
    "sns.heatmap(conf_matrix, annot=True, fmt='d', cmap='Blues', xticklabels=['Não Popular', 'Popular'], yticklabels=['Não Popular', 'Popular'])\n",
    "plt.xlabel('Predição')\n",
    "plt.ylabel('Real')\n",
    "plt.title('Matriz de Confusão')\n",
    "plt.show()"
   ]
  },
  {
   "cell_type": "code",
   "execution_count": null,
   "metadata": {},
   "outputs": [],
   "source": [
    "# Relatório de classificação detalhado\n",
    "print('Relatório de Classificação:')\n",
    "print(classification_report(y_val, y_val_pred))"
   ]
  },
  {
   "cell_type": "markdown",
   "metadata": {},
   "source": [
    "Agora vamos testar com a hipótese 1: relacionando os pesos"
   ]
  },
  {
   "cell_type": "code",
   "execution_count": null,
   "metadata": {},
   "outputs": [],
   "source": [
    "logistic_model.fit(X_train, y_train, classifier__sample_weight=train_data['genre_weight'])\n",
    "y_val_pred = logistic_model.predict(X_val)\n",
    "accuracy = accuracy_score(y_val, y_val_pred)\n",
    "print(f'Acurácia: {accuracy:.2f}')\n"
   ]
  },
  {
   "cell_type": "code",
   "execution_count": null,
   "metadata": {},
   "outputs": [],
   "source": [
    "# plot da matriz de confusão\n",
    "conf_matrix = confusion_matrix(y_val, y_val_pred)\n",
    "\n",
    "plt.figure(figsize=(8, 6))\n",
    "sns.heatmap(conf_matrix, annot=True, fmt='d', cmap='Blues', xticklabels=['Não Popular', 'Popular'], yticklabels=['Não Popular', 'Popular'])\n",
    "plt.xlabel('Predição')\n",
    "plt.ylabel('Real')\n",
    "plt.title('Matriz de Confusão')\n",
    "plt.show()"
   ]
  },
  {
   "cell_type": "markdown",
   "metadata": {},
   "source": [
    "Agora, vamos testar random forest para o treinamento do modelo"
   ]
  },
  {
   "cell_type": "code",
   "execution_count": null,
   "metadata": {},
   "outputs": [],
   "source": [
    "# 5. Criar pipeline com pré-processamento e modelo de regressão logística\n",
    "random_model = Pipeline(steps=[\n",
    "    ('preprocessor', preprocessor),\n",
    "    ('classifier', RandomForestClassifier(random_state=42, n_estimators=100))\n",
    "])"
   ]
  },
  {
   "cell_type": "code",
   "execution_count": null,
   "metadata": {},
   "outputs": [],
   "source": [
    "# Treinar o modelo no conjunto de treino dividido com RandomForest\n",
    "random_model.fit(X_train_split, y_train_split)\n",
    "y_val_pred = random_model.predict(X_val)\n",
    "accuracy = accuracy_score(y_val, y_val_pred)\n",
    "print(f'Acurácia: {accuracy:.2f}')\n"
   ]
  },
  {
   "cell_type": "code",
   "execution_count": null,
   "metadata": {},
   "outputs": [],
   "source": [
    "# plot da matriz de confusão\n",
    "conf_matrix = confusion_matrix(y_val, y_val_pred)\n",
    "\n",
    "plt.figure(figsize=(8, 6))\n",
    "sns.heatmap(conf_matrix, annot=True, fmt='d', cmap='Blues', xticklabels=['Não Popular', 'Popular'], yticklabels=['Não Popular', 'Popular'])\n",
    "plt.xlabel('Predição')\n",
    "plt.ylabel('Real')\n",
    "plt.title('Matriz de Confusão')\n",
    "plt.show()"
   ]
  },
  {
   "cell_type": "markdown",
   "metadata": {},
   "source": [
    "Agora vamos aplicar FineTunning para os hiperparâmetros de ambos os modelos"
   ]
  },
  {
   "cell_type": "code",
   "execution_count": null,
   "metadata": {},
   "outputs": [],
   "source": [
    "# 1. Definindo os hiperparâmetros para Logistic Regression\n",
    "logistic_param_grid = {\n",
    "    'classifier__C': [0.001, 0.01, 0.1, 1, 10],\n",
    "    'classifier__penalty': ['l1', 'l2'],  # Use 'elasticnet' se max_iter >= 1000\n",
    "}"
   ]
  },
  {
   "cell_type": "code",
   "execution_count": null,
   "metadata": {},
   "outputs": [],
   "source": [
    "# Criar o objeto GridSearchCV para Logistic Regression\n",
    "logistic_grid_search = GridSearchCV(logistic_model, logistic_param_grid, cv=5, scoring='accuracy')"
   ]
  },
  {
   "cell_type": "code",
   "execution_count": null,
   "metadata": {},
   "outputs": [],
   "source": [
    "# Ajustar o GridSearchCV aos dados de treinamento\n",
    "logistic_grid_search.fit(X_train_split, y_train_split)"
   ]
  },
  {
   "cell_type": "code",
   "execution_count": null,
   "metadata": {},
   "outputs": [],
   "source": [
    "# Exibir os melhores parâmetros\n",
    "print(\"Melhores parâmetros para Logistic Regression:\")\n",
    "print(logistic_grid_search.best_params_)"
   ]
  },
  {
   "cell_type": "code",
   "execution_count": null,
   "metadata": {},
   "outputs": [],
   "source": [
    "# 5. Criar pipeline com pré-processamento e modelo de regressão logística\n",
    "logistic_model = Pipeline(steps=[\n",
    "    ('preprocessor', preprocessor),\n",
    "    ('classifier', LogisticRegression(random_state=42, max_iter=1000, C=10, penalty='l2'))\n",
    "])"
   ]
  },
  {
   "cell_type": "code",
   "execution_count": null,
   "metadata": {},
   "outputs": [],
   "source": [
    "logistic_model.fit(X_train, y_train)\n",
    "y_val_pred = logistic_model.predict(X_val)\n",
    "accuracy = accuracy_score(y_val, y_val_pred)\n",
    "print(f'Acurácia: {accuracy:.2f}')"
   ]
  },
  {
   "cell_type": "code",
   "execution_count": null,
   "metadata": {},
   "outputs": [],
   "source": [
    "random_param_grid = {\n",
    "    'classifier__n_estimators': [50, 100, 200],  \n",
    "    'classifier__max_depth': [None, 10, 20],  \n",
    "}"
   ]
  },
  {
   "cell_type": "code",
   "execution_count": null,
   "metadata": {},
   "outputs": [],
   "source": [
    "rf_grid_search = GridSearchCV(random_model, random_param_grid, cv=5, scoring='accuracy')"
   ]
  },
  {
   "cell_type": "code",
   "execution_count": null,
   "metadata": {},
   "outputs": [],
   "source": [
    "# Ajustar o GridSearchCV aos dados de treinamento\n",
    "rf_grid_search.fit(X_train_split, y_train_split)"
   ]
  },
  {
   "cell_type": "code",
   "execution_count": null,
   "metadata": {},
   "outputs": [],
   "source": [
    "# Exibir os melhores parâmetros\n",
    "print(\"Melhores parâmetros para Random Forest Classifier:\")\n",
    "print(rf_grid_search.best_params_)"
   ]
  },
  {
   "cell_type": "code",
   "execution_count": null,
   "metadata": {},
   "outputs": [],
   "source": [
    "random_model = Pipeline(steps=[\n",
    "    ('preprocessor', preprocessor),\n",
    "    ('classifier', RandomForestClassifier(random_state=42, n_estimators=200, max_depth=None))\n",
    "])"
   ]
  },
  {
   "cell_type": "code",
   "execution_count": null,
   "metadata": {},
   "outputs": [],
   "source": [
    "# Treinar o modelo no conjunto de treino dividido com RandomForest\n",
    "random_model.fit(X_train_split, y_train_split)\n",
    "y_val_pred = random_model.predict(X_val)\n",
    "accuracy = accuracy_score(y_val, y_val_pred)\n",
    "print(f'Acurácia: {accuracy:.2f}')  "
   ]
  },
  {
   "cell_type": "code",
   "execution_count": null,
   "metadata": {},
   "outputs": [],
   "source": [
    "# 10. Fazer previsões no conjunto de teste\n",
    "y_test_pred = random_model.predict(X_test)\n",
    "\n",
    "# Caso tenha o arquivo de submissão\n",
    "submission = pd.DataFrame({'track_unique_id': test_data['track_unique_id'], 'popularity_target': y_test_pred})\n",
    "\n",
    "# 12. Salvar o arquivo de submissão\n",
    "submission.to_csv('./submission.csv', index=False)\n",
    "\n",
    "print('Arquivo de submissão gerado com sucesso!')"
   ]
  }
 ],
 "metadata": {
  "kernelspec": {
   "display_name": "Python 3",
   "language": "python",
   "name": "python3"
  },
  "language_info": {
   "codemirror_mode": {
    "name": "ipython",
    "version": 3
   },
   "file_extension": ".py",
   "mimetype": "text/x-python",
   "name": "python",
   "nbconvert_exporter": "python",
   "pygments_lexer": "ipython3",
   "version": "3.12.4"
  }
 },
 "nbformat": 4,
 "nbformat_minor": 2
}
